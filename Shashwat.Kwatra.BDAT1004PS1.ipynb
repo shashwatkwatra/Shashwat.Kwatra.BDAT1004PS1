{
  "nbformat": 4,
  "nbformat_minor": 0,
  "metadata": {
    "colab": {
      "provenance": []
    },
    "kernelspec": {
      "name": "python3",
      "display_name": "Python 3"
    },
    "language_info": {
      "name": "python"
    }
  },
  "cells": [
    {
      "cell_type": "code",
      "execution_count": null,
      "metadata": {
        "id": "WTtLDVfBzFN3"
      },
      "outputs": [],
      "source": []
    },
    {
      "cell_type": "markdown",
      "source": [
        "# **Problem Set 1**"
      ],
      "metadata": {
        "id": "DcNEkeXpzILt"
      }
    },
    {
      "cell_type": "markdown",
      "source": [
        "Question 1 : <br>\n",
        "What data type is each of the following (evaluate where necessary)?\n",
        "5\n",
        "5.0\n",
        "5 > 1\n",
        "'5'\n",
        "5 * 2\n",
        "'5' * 2\n",
        "'5' + '2'\n",
        "5 / 2\n",
        "5 % 2\n",
        "{5, 2, 1}\n",
        "5 == 3\n",
        "Pi (the number)"
      ],
      "metadata": {
        "id": "UXVCj4hizXvP"
      }
    },
    {
      "cell_type": "code",
      "source": [
        "value1 = 5\n",
        "print(f\"{value1} is of type: {type(value1)}\")\n",
        "\n",
        "value2 = 5.0\n",
        "print(f\"{value2} is of type: {type(value2)}\")\n",
        "\n",
        "value3 = 5 > 1\n",
        "print(f\"{value3} is of type: {type(value3)}\")\n",
        "\n",
        "value4 = '5'\n",
        "print(f\"'{value4}' is of type: {type(value4)}\")\n",
        "\n",
        "value5 = 5 * 2\n",
        "print(f\"{value5} is of type: {type(value5)}\")\n",
        "\n",
        "value6 = '5' * 2\n",
        "print(f\"'{value6}' is of type: {type(value6)}\")\n",
        "\n",
        "value7 = '5' + '2'\n",
        "print(f\"'{value7}' is of type: {type(value7)}\")\n",
        "\n",
        "value8 = 5 / 2\n",
        "print(f\"{value8} is of type: {type(value8)}\")\n",
        "\n",
        "value9 = 5 % 2\n",
        "print(f\"{value9} is of type: {type(value9)}\")\n",
        "\n",
        "value10 = {5, 2, 1}\n",
        "print(f\"{value10} is of type: {type(value10)}\")\n",
        "\n",
        "value11 = 5 == 3\n",
        "print(f\"{value11} is of type: {type(value11)}\")\n",
        "\n",
        "import math\n",
        "value12 = math.pi\n",
        "print(f\"{value12} is of type: {type(value12)}\")\n"
      ],
      "metadata": {
        "colab": {
          "base_uri": "https://localhost:8080/"
        },
        "id": "HQf9E56FzmQv",
        "outputId": "d04b1005-2f44-43df-8206-f76af3545ad3"
      },
      "execution_count": 1,
      "outputs": [
        {
          "output_type": "stream",
          "name": "stdout",
          "text": [
            "5 is of type: <class 'int'>\n",
            "5.0 is of type: <class 'float'>\n",
            "True is of type: <class 'bool'>\n",
            "'5' is of type: <class 'str'>\n",
            "10 is of type: <class 'int'>\n",
            "'55' is of type: <class 'str'>\n",
            "'52' is of type: <class 'str'>\n",
            "2.5 is of type: <class 'float'>\n",
            "1 is of type: <class 'int'>\n",
            "{1, 2, 5} is of type: <class 'set'>\n",
            "False is of type: <class 'bool'>\n",
            "3.141592653589793 is of type: <class 'float'>\n"
          ]
        }
      ]
    },
    {
      "cell_type": "markdown",
      "source": [
        "Question 2<br>\n",
        "Write (and evaluate) python expressions that answer these questions: <br>\n",
        "\n",
        "\n",
        "\n"
      ],
      "metadata": {
        "id": "jqYtHdRn0kr9"
      }
    },
    {
      "cell_type": "markdown",
      "source": [
        "a. How many letters are there in 'Supercalifragilisticexpialidocious'?"
      ],
      "metadata": {
        "id": "xQuBm29y1lLI"
      }
    },
    {
      "cell_type": "code",
      "source": [
        "word = 'Supercalifragilisticexpialidocious'\n",
        "letter_count = len(word)\n",
        "print(f\"There are {letter_count} letters in '{word}'\")\n"
      ],
      "metadata": {
        "colab": {
          "base_uri": "https://localhost:8080/"
        },
        "id": "jLy34LM81IM1",
        "outputId": "bd8f7cd7-47c7-4940-d762-09e9d3c41475"
      },
      "execution_count": 3,
      "outputs": [
        {
          "output_type": "stream",
          "name": "stdout",
          "text": [
            "There are 34 letters in 'Supercalifragilisticexpialidocious'\n"
          ]
        }
      ]
    },
    {
      "cell_type": "markdown",
      "source": [
        "b. Does 'Supercalifragilisticexpialidocious' contain 'ice' as a substring?"
      ],
      "metadata": {
        "id": "ft6mnIAb1u9U"
      }
    },
    {
      "cell_type": "code",
      "source": [
        "word = 'Supercalifragilisticexpialidocious'\n",
        "substring = 'ice'\n",
        "contains_substring = substring in word\n",
        "print(f\"'{word}' contains '{substring}': {contains_substring}\")\n"
      ],
      "metadata": {
        "colab": {
          "base_uri": "https://localhost:8080/"
        },
        "id": "04Tx9iUr1yhG",
        "outputId": "fef6d83d-190d-4e4b-d9a3-0dde8248372f"
      },
      "execution_count": 4,
      "outputs": [
        {
          "output_type": "stream",
          "name": "stdout",
          "text": [
            "'Supercalifragilisticexpialidocious' contains 'ice': True\n"
          ]
        }
      ]
    },
    {
      "cell_type": "markdown",
      "source": [
        "c. Which of the following words is the longest: 'Supercalifragilisticexpialidocious', 'Honorificabilitudinitatibus', or 'Bababadalgharaghtakamminarronnkonn'?"
      ],
      "metadata": {
        "id": "eRbqxt1d2BaA"
      }
    },
    {
      "cell_type": "code",
      "source": [
        "words = ['Supercalifragilisticexpialidocious', 'Honorificabilitudinitatibus', 'Bababadalgharaghtakamminarronnkonn']\n",
        "longest_word = max(words, key=len)\n",
        "print(f\"The longest word among the given options is '{longest_word}'.\")\n"
      ],
      "metadata": {
        "colab": {
          "base_uri": "https://localhost:8080/"
        },
        "id": "piR05FPJ2EOn",
        "outputId": "8d2c712e-39f1-405d-b07f-fa341cb97d1d"
      },
      "execution_count": 5,
      "outputs": [
        {
          "output_type": "stream",
          "name": "stdout",
          "text": [
            "The longest word among the given options is 'Supercalifragilisticexpialidocious'.\n"
          ]
        }
      ]
    },
    {
      "cell_type": "markdown",
      "source": [
        "d. Which composer comes first in the dictionary: 'Berlioz', 'Borodin', 'Brian', 'Bartok', 'Bellini', 'Buxtehude', 'Bernstein'. Which one comes last?"
      ],
      "metadata": {
        "id": "DN23zdy-2IzE"
      }
    },
    {
      "cell_type": "code",
      "source": [
        "composers = ['Berlioz', 'Borodin', 'Brian', 'Bartok', 'Bellini', 'Buxtehude', 'Bernstein']\n",
        "first_composer = min(composers)\n",
        "last_composer = max(composers)\n",
        "print(f\"The first composer in the dictionary is '{first_composer}'.\")\n",
        "print(f\"The last composer in the dictionary is '{last_composer}'.\")\n"
      ],
      "metadata": {
        "colab": {
          "base_uri": "https://localhost:8080/"
        },
        "id": "rmVPE25c2LkZ",
        "outputId": "faef4c48-3ad4-4f4d-b65a-03f62398d355"
      },
      "execution_count": 6,
      "outputs": [
        {
          "output_type": "stream",
          "name": "stdout",
          "text": [
            "The first composer in the dictionary is 'Bartok'.\n",
            "The last composer in the dictionary is 'Buxtehude'.\n"
          ]
        }
      ]
    },
    {
      "cell_type": "markdown",
      "source": [
        "Question 3 : <br>\n",
        "Implement function triangleArea(a,b,c) that takes as input the lengths of the 3\n",
        "sides of a triangle and returns the area of the triangle. By Heron's formula, the area\n",
        "of a triangle with side lengths a, b, and c is s(s - a)(s - b)(s - c), where\n",
        "s = (a +b +c)/2.\n"
      ],
      "metadata": {
        "id": "ImnI8y1b2Tsu"
      }
    },
    {
      "cell_type": "code",
      "source": [
        "import math\n",
        "\n",
        "def triangleArea(a, b, c):\n",
        "    s = (a + b + c) / 2\n",
        "    area = math.sqrt(s * (s - a) * (s - b) * (s - c))\n",
        "    return area\n",
        "\n",
        "\n",
        "result = triangleArea(2, 2, 2)\n",
        "print(result)\n"
      ],
      "metadata": {
        "colab": {
          "base_uri": "https://localhost:8080/"
        },
        "id": "-Gur13Op2hp0",
        "outputId": "b67fba0e-7d78-4a7b-fa6f-b1bc4cd771dd"
      },
      "execution_count": 7,
      "outputs": [
        {
          "output_type": "stream",
          "name": "stdout",
          "text": [
            "1.7320508075688772\n"
          ]
        }
      ]
    },
    {
      "cell_type": "markdown",
      "source": [
        "Question 4 <br>\n",
        "Write a program in python to separate odd and even integers in separate arrays. <br> Go\n",
        "to the editor\n",
        "Test Data : <br>\n",
        "Input the number of elements to be stored in the array :5\n",
        "Input 5 elements in the array : <br>\n",
        "element - 0 : 25 <br>\n",
        "element - 1 : 47 <br>\n",
        "element - 2 : 42 <br>\n",
        "element - 3 : 56 <br>\n",
        "element - 4 : 32 <br>"
      ],
      "metadata": {
        "id": "JvxCE9cA21BR"
      }
    },
    {
      "cell_type": "code",
      "source": [
        "num_elements = int(input(\"Input the number of elements to be stored in the array: \"))\n",
        "\n",
        "even_numbers = []\n",
        "odd_numbers = []\n",
        "\n",
        "for i in range(num_elements):\n",
        "    element = int(input(f\"element - {i} : \"))\n",
        "    if element % 2 == 0:\n",
        "        even_numbers.append(element)\n",
        "    else:\n",
        "        odd_numbers.append(element)\n",
        "\n",
        "print(\"The Even elements are:\")\n",
        "print(even_numbers)\n",
        "\n",
        "print(\"The Odd elements are:\")\n",
        "print(odd_numbers)\n"
      ],
      "metadata": {
        "colab": {
          "base_uri": "https://localhost:8080/"
        },
        "id": "GCCj_JDZ3D0T",
        "outputId": "bd718be9-ca35-4de0-9a9e-4fa6c7a82c1b"
      },
      "execution_count": 12,
      "outputs": [
        {
          "output_type": "stream",
          "name": "stdout",
          "text": [
            "Input the number of elements to be stored in the array: 5\n",
            "element - 0 : 25\n",
            "element - 1 : 47\n",
            "element - 2 : 42\n",
            "element - 3 : 56\n",
            "element - 4 : 32\n",
            "The Even elements are:\n",
            "[42, 56, 32]\n",
            "The Odd elements are:\n",
            "[25, 47]\n"
          ]
        }
      ]
    },
    {
      "cell_type": "markdown",
      "source": [
        "Question 5 <br>\n",
        "a. Write a function inside(x,y,x1,y1,x2,y2) that returns True or False\n",
        "depending on whether the point (x,y) lies in the rectangle with lower left\n",
        "corner (x1,y1) and upper right corner (x2,y2).\n",
        "<br><br>\n",
        "b. Use function inside() from part a. to write an expression that tests whether\n",
        "the point (1,1) lies in both of the following rectangles: one with lower left\n",
        "corner (0.3, 0.5) and upper right corner (1.1, 0.7) and the other with lower\n",
        "left corner (0.5, 0.2) and upper right corner (1.1, 2)."
      ],
      "metadata": {
        "id": "ulQlr2E04de8"
      }
    },
    {
      "cell_type": "code",
      "source": [
        "def inside(x, y, x1, y1, x2, y2):\n",
        "    return x1 <= x <= x2 and y1 <= y <= y2\n",
        "\n",
        "result1 = inside(1, 1, 0, 0, 2, 3)\n",
        "print(result1)\n",
        "\n",
        "result2 = inside(-1, -1, 0, 0, 2, 3)\n",
        "print(result2)\n",
        "\n",
        "rectangle1 = inside(1, 1, 0.3, 0.5, 1.1, 0.7)\n",
        "rectangle2 = inside(1, 1, 0.5, 0.2, 1.1, 2)\n",
        "\n",
        "if rectangle1 and rectangle2:\n",
        "    print(\"The point (1,1) lies in both rectangles.\")\n",
        "else:\n",
        "    print(\"The point (1,1) does not lie in both rectangles.\")\n"
      ],
      "metadata": {
        "colab": {
          "base_uri": "https://localhost:8080/"
        },
        "id": "z-sDfk7h4nTd",
        "outputId": "4a57278f-f00e-4625-ee89-3b986b5139ea"
      },
      "execution_count": 13,
      "outputs": [
        {
          "output_type": "stream",
          "name": "stdout",
          "text": [
            "True\n",
            "False\n",
            "The point (1,1) does not lie in both rectangles.\n"
          ]
        }
      ]
    },
    {
      "cell_type": "markdown",
      "source": [
        "Question 6 <br>\n",
        " You can turn a word into pig-Latin using the following two rules (simplified):\n",
        "• If the word starts with a consonant, move that letter to the end and append\n",
        "'ay'. For example, 'happy' becomes 'appyhay' and 'pencil' becomes 'encilpay'.\n",
        "• If the word starts with a vowel, simply append 'way' to the end of the word.\n",
        "For example, 'enter' becomes 'enterway' and 'other' becomes 'otherway' . For\n",
        "our purposes, there are 5 vowels: a, e, i, o, u (so we count y as a consonant).\n",
        "Write a function pig() that takes a word (i.e., a string) as input and returns its pig-\n",
        "Latin form. Your function should still work if the input word contains upper case\n",
        "characters. Your output should always be lower case however.\n"
      ],
      "metadata": {
        "id": "qQB1yyQ96X_U"
      }
    },
    {
      "cell_type": "code",
      "source": [
        "def pig(word):\n",
        "    word = word.lower()\n",
        "\n",
        "    vowels = ['a', 'e', 'i', 'o', 'u']\n",
        "\n",
        "    if word[0] in vowels:\n",
        "        pig_latin_word = word + 'way'\n",
        "    else:\n",
        "        index = 0\n",
        "        for i, letter in enumerate(word):\n",
        "            if letter in vowels:\n",
        "                index = i\n",
        "                break\n",
        "\n",
        "        pig_latin_word = word[index:] + word[:index] + 'ay'\n",
        "\n",
        "    return pig_latin_word\n",
        "\n",
        "print(pig('happy'))\n",
        "print(pig('Enter'))\n"
      ],
      "metadata": {
        "colab": {
          "base_uri": "https://localhost:8080/"
        },
        "id": "mFFoy1Xi6dPE",
        "outputId": "7435d7ed-ef38-49fd-b9fa-3654daa9a6e2"
      },
      "execution_count": 14,
      "outputs": [
        {
          "output_type": "stream",
          "name": "stdout",
          "text": [
            "appyhay\n",
            "enterway\n"
          ]
        }
      ]
    },
    {
      "cell_type": "markdown",
      "source": [
        "Question 7 <br>\n",
        "File bloodtype1.txt records blood-types of patients (A, B, AB, O or OO) at a clinic.\n",
        "Write a function bldcount() that reads the file with name name and reports (i.e.,\n",
        "prints) how many patients there are in each bloodtype."
      ],
      "metadata": {
        "id": "uw82BGyo7Jmk"
      }
    },
    {
      "cell_type": "code",
      "source": [
        "def bldcount(filename):\n",
        "    blood_type_count = {'A': 0, 'B': 0, 'AB': 0, 'O': 0, 'OO': 0}\n",
        "\n",
        "    try:\n",
        "        with open(filename, 'r') as file:\n",
        "            blood_types = file.read().split()\n",
        "\n",
        "            for blood_type in blood_types:\n",
        "                if blood_type in blood_type_count:\n",
        "                    blood_type_count[blood_type] += 1\n",
        "\n",
        "        for blood_type, count in blood_type_count.items():\n",
        "            if count == 1:\n",
        "                print(f'There is one patient of blood type {blood_type}.')\n",
        "            elif count > 1:\n",
        "                print(f'There are {count} patients of blood type {blood_type}.')\n",
        "            else:\n",
        "                print(f'There are no patients of blood type {blood_type}.')\n",
        "\n",
        "    except FileNotFoundError:\n",
        "        print(f\"File '{filename}' not found.\")\n",
        "\n",
        "bldcount('bloodtype1.txt')\n"
      ],
      "metadata": {
        "colab": {
          "base_uri": "https://localhost:8080/"
        },
        "id": "7PXcbXU67Pc2",
        "outputId": "b1ba705f-eb4c-43f6-8333-d031d6c9e7ce"
      },
      "execution_count": 26,
      "outputs": [
        {
          "output_type": "stream",
          "name": "stdout",
          "text": [
            "There are 15 patients of blood type A.\n",
            "There is one patient of blood type B.\n",
            "There are 13 patients of blood type AB.\n",
            "There are 15 patients of blood type O.\n",
            "There are no patients of blood type OO.\n"
          ]
        }
      ]
    },
    {
      "cell_type": "markdown",
      "source": [
        "Question 8 <br>\n",
        "Write a function curconv() that takes as input:\n",
        "1. a currency represented using a string (e.g., 'JPY' for the Japanese Yen or\n",
        "'EUR' for the Euro)\n",
        "2. an amount\n",
        "and then converts and returns the amount in US dollars."
      ],
      "metadata": {
        "id": "1wzcVXtsFFiZ"
      }
    },
    {
      "cell_type": "code",
      "source": [
        "def curconv(currency, amount):\n",
        "    conversion_rates = {}\n",
        "\n",
        "    try:\n",
        "        with open('currencies.txt', 'r') as file:\n",
        "            file_content = file.read()\n",
        "\n",
        "            lines = file_content.strip().split('\\n')\n",
        "\n",
        "            for line in lines:\n",
        "                parts = line.strip().split()\n",
        "                if len(parts) == 3:\n",
        "                    code, rate = parts[0], float(parts[1])\n",
        "                    conversion_rates[code] = rate\n",
        "\n",
        "        if currency in conversion_rates:\n",
        "            usd_amount = amount * conversion_rates[currency]\n",
        "            return usd_amount\n",
        "        else:\n",
        "            return f\"Currency code '{currency}' not found in the database.\"\n",
        "\n",
        "    except FileNotFoundError:\n",
        "        return \"File 'currencies.txt' not found.\"\n",
        "\n",
        "usd1 = curconv('EUR', 100)\n",
        "print(usd1)\n",
        "\n",
        "usd2 = curconv('JPY', 100)\n",
        "print(usd2)\n"
      ],
      "metadata": {
        "colab": {
          "base_uri": "https://localhost:8080/"
        },
        "id": "hcBtvLQ1FJZD",
        "outputId": "9cd8619e-8220-4167-f1f6-a7df4cf7cff5"
      },
      "execution_count": 46,
      "outputs": [
        {
          "output_type": "stream",
          "name": "stdout",
          "text": [
            "122.96544\n",
            "Currency code 'JPY' not found in the database.\n"
          ]
        }
      ]
    },
    {
      "cell_type": "markdown",
      "source": [
        "Question 9 <br>\n",
        "Each of the following will cause an exception (an error). Identify what type of\n",
        "exception each will cause.\n",
        "Trying to add incompatible variables, as in\n",
        "adding 6 + ‘a’\n",
        "Referring to the 12th item of a list that has only 10\n",
        "items\n",
        "Using a value that is out of range for a function’s\n",
        "input, such as calling math.sqrt(-1.0)\n",
        "Using an undeclared variable, such as print(x)\n",
        "when x has not been defined\n",
        "Trying to open a file that does not exist, such as\n",
        "mistyping the file name or looking in the wrong\n",
        "directory."
      ],
      "metadata": {
        "id": "NC1MuSDIKE3w"
      }
    },
    {
      "cell_type": "markdown",
      "source": [
        "\n",
        "1. Trying to add incompatible variables, as in adding 6 + 'a':<br>\n",
        "Because we cannot directly add a string to an integer, trying to do so will result in a TypeError.\n",
        "A list with just 10 items, but referring to item number 12.\n",
        "\n",
        "2. Referring to the 12th item of a list that has only 10 items: <br>We'll get an IndexError since attempting to reach a list index beyond its range.\n",
        "Mathematical functions like math.sqrt can't handle input values that are outside their range, an example of which is using math.sqrt(-1.0).\n",
        "\n",
        "3. Using a value that is out of range for a function’s input, such as calling math.sqrt(-1.0): <br> The math.sqrt function's constraints do not allow for negative inputs, as the function is not defined for negative values. Therefore, a ValueError will arise if a negative number is entered.\n",
        "Defined variable not used, like printing a value for x that was never declared:\n",
        "\n",
        "4. Using an undeclared variable, such as print(x) when x has not been defined: <br>In the print statement, the variable x is not defined or declared, leading to a NameError.\n",
        "Looking in the wrong directory or mistyping the file name could result in attempting to open a file that isn't there.\n",
        "\n",
        "5. Trying to open a file that does not exist, such as mistyping the file name or looking in the wrong directory: <br> An incorrect file path or a typo in the filename will result in a FileNotFoundError being raised by Python, indicating that the specified file cannot be located.\n",
        "\n",
        "\n",
        "\n",
        "\n"
      ],
      "metadata": {
        "id": "QIVbq0YxLUPh"
      }
    },
    {
      "cell_type": "markdown",
      "source": [
        "Question 10 <br>\n",
        "Encryption is the process of hiding the meaning of a text by substituting letters in the\n",
        "message with other letters, according to some system. If the process is successful, no\n",
        "one but the intended recipient can understand the encrypted message. Cryptanalysis\n",
        "refers to attempts to undo the encryption, even if some details of the encryption are\n",
        "unknown (for example, if an encrypted message has been intercepted). The first step\n",
        "of cryptanalysis is often to build up a table of letter frequencies in the encrypted text.\n",
        "Assume that the string letters is already defined as\n",
        "'abcdefghijklmnopqrstuvwxyz'. Write a function called frequencies()\n",
        "that takes a string as its only parameter, and returns a list of integers, showing the\n",
        "number of times each character appears in the text. Your function may ignore any\n",
        "characters that are not in letters."
      ],
      "metadata": {
        "id": "Gw9pizO6MH9D"
      }
    },
    {
      "cell_type": "code",
      "source": [
        "def frequencies(text):\n",
        "    letters = 'abcdefghijklmnopqrstuvwxyz'\n",
        "    frequency_list = [0] * 26\n",
        "    text = text.lower()\n",
        "\n",
        "    for char in text:\n",
        "        if char in letters:\n",
        "            index = letters.index(char)\n",
        "            frequency_list[index] += 1\n",
        "\n",
        "    return frequency_list\n",
        "\n",
        "result1 = frequencies('The quick red fox got bored and went home.')\n",
        "print(result1)\n",
        "\n",
        "result2 = frequencies('apple')\n",
        "print(result2)\n"
      ],
      "metadata": {
        "colab": {
          "base_uri": "https://localhost:8080/"
        },
        "id": "nbk8QfYqMJ5O",
        "outputId": "e8f4c70b-445a-466e-e4bd-68aa5873548d"
      },
      "execution_count": 48,
      "outputs": [
        {
          "output_type": "stream",
          "name": "stdout",
          "text": [
            "[1, 1, 1, 3, 5, 1, 1, 2, 1, 0, 1, 0, 1, 2, 4, 0, 1, 2, 0, 3, 1, 0, 1, 1, 0, 0]\n",
            "[1, 0, 0, 0, 1, 0, 0, 0, 0, 0, 0, 1, 0, 0, 0, 2, 0, 0, 0, 0, 0, 0, 0, 0, 0, 0]\n"
          ]
        }
      ]
    }
  ]
}